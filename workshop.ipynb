{
 "cells": [
  {
   "cell_type": "markdown",
   "metadata": {},
   "source": [
    "### Problem 1\n",
    "\n",
    "Verilen iki listenin kesişim elemanlarını set kullanmadan bulmaya çalışın?"
   ]
  },
  {
   "cell_type": "code",
   "execution_count": 8,
   "metadata": {
    "tags": []
   },
   "outputs": [
    {
     "output_type": "stream",
     "name": "stdout",
     "text": "Kesişim elemanları:  [2, 3]\n"
    }
   ],
   "source": [
    "list1 = [1, 2, 3, 4, 8, 9]\n",
    "list2 = [2, 3, 6, 11]\n",
    "\n",
    "res = list(filter(lambda x : x in list2, list1))\n",
    "print (\"Kesişim elemanları: \", res)"
   ]
  },
  {
   "cell_type": "markdown",
   "metadata": {},
   "source": [
    "### Problem 2\n",
    "\n",
    "Verilen kelimede w2 harfini w1 ile değiştiren fonksiyon yazın? (lambda ile yazmaya çalışın)\n"
   ]
  },
  {
   "cell_type": "code",
   "execution_count": null,
   "metadata": {
    "tags": []
   },
   "outputs": [],
   "source": [
    "def replace_char(word, w1, w2):\n",
    "    new_word = map(lambda x: x if x != w2 else w1, word)\n",
    "    return \"\".join(new_word)\n",
    "\n",
    "print(replace_char('clırusway', \"a\", \"ı\"))\n"
   ]
  },
  {
   "cell_type": "markdown",
   "metadata": {},
   "source": [
    "### Problem 3\n",
    "\n",
    "list1 = [[(3, 4, 5), (6, 8, 10), (3, 10, 7)]] verilen listenin elemanlarından üçgen oluşturulabilen elemanları bulun?"
   ]
  },
  {
   "cell_type": "code",
   "execution_count": null,
   "metadata": {
    "tags": []
   },
   "outputs": [],
   "source": [
    "def is_triangle(a):\n",
    "    if (a[0] + a[1] <= a[2]) or (a[0] + a[2] <= a[1]) or (a[1] + a[2] <= a[0]):\n",
    "        return False\n",
    "    else:\n",
    "        return True\n",
    "list1 = [(3, 4, 5), (6, 8, 10), (3, 10, 7)]\n",
    "print(list(filter(is_triangle, list1)))"
   ]
  },
  {
   "cell_type": "markdown",
   "metadata": {},
   "source": [
    "### Problem 4\n",
    "\n",
    "Kullanıcıdan girdi alan ve girilen değer sayı değilse \"sayı\" is not valid number mesajı veren bir fonksiyon yazın"
   ]
  },
  {
   "cell_type": "code",
   "execution_count": 14,
   "metadata": {
    "tags": []
   },
   "outputs": [
    {
     "output_type": "stream",
     "name": "stdout",
     "text": "k is not a valid number\n"
    },
    {
     "output_type": "execute_result",
     "data": {
      "text/plain": "'5'"
     },
     "metadata": {},
     "execution_count": 14
    }
   ],
   "source": [
    "def get_integer(prompt):\n",
    "    while True:\n",
    "        temp = input(prompt)\n",
    "        if temp.isnumeric():\n",
    "            return temp\n",
    "        else:\n",
    "            print(\"{0} is not a valid number\".format(temp))\n",
    "get_integer(\"sayi mi değilmi\")"
   ]
  },
  {
   "cell_type": "markdown",
   "metadata": {},
   "source": [
    "### Problem 5\n",
    "\n",
    "Soru 4 de yazdığınız fonksiyonu is_int.py uzantılı olarak kaydedin ve daha önceden yaptığınız amstrong sayısını bulma ödevinde kullanmak üzere import edip kullanın.\n"
   ]
  },
  {
   "cell_type": "code",
   "execution_count": null,
   "metadata": {
    "tags": []
   },
   "outputs": [],
   "source": [
    "from isint import get_integer\n",
    "\n",
    "while True:\n",
    "    number = get_integer(\"Please enter a number to check if it's an Armstrong Number : \")\n",
    "\n",
    "    len_num = len(number)\n",
    "\n",
    "    list_num = list(number)\n",
    "\n",
    "    armstrong = 0\n",
    "\n",
    "    for i in list_num:\n",
    "        armstrong += int(i) ** len_num\n",
    "        \n",
    "    if int(number)==armstrong:\n",
    "        print(\"{} is an Armstrong number\".format(int(number)))\n",
    "    else: \n",
    "        print(\"{} is not an Armstrong number\".format(int(number)))\n",
    "\n"
   ]
  },
  {
   "cell_type": "markdown",
   "metadata": {},
   "source": [
    "### Problem 6\n",
    "\n",
    "Kullanıcıdan aldığınız cümlenin palindrom olup olmadığını kontrol eden fonksiyon yazın.(Noktalama ve özel karakterleri dikkate almayın. Sadece alphanumeric karakterler i dikkate alın.)"
   ]
  },
  {
   "cell_type": "code",
   "execution_count": null,
   "metadata": {},
   "outputs": [],
   "source": [
    "def is_palindrome(string):\n",
    "    # backwards = string[::-1]\n",
    "    # return backwards == string\n",
    "    return string[::-1].casefold() == string.casefold()\n",
    "\n",
    "\n",
    "def palindrome_sentence(sentence):\n",
    "    string = \"\"\n",
    "    for char in sentence:\n",
    "        if char.isalnum():\n",
    "            string += char\n",
    "    print(string)\n",
    "    # return string[::-1].casefold() == string.casefold()\n",
    "    return is_palindrome(string)\n",
    "\n",
    "word = input(\"Please enter a word to check: \")\n",
    "if palindrome_sentence(word):\n",
    "    print(\"'{}' is a palindrome\".format(word))\n",
    "else:\n",
    "    print(\"'{}' is not a palindrome\".format(word))"
   ]
  },
  {
   "cell_type": "markdown",
   "metadata": {},
   "source": [
    "### Problem 7\n",
    "\n",
    "Micro learning de çözülen aşağıdaki soruyu fonksiyon olarak düzenleyin?(Lambda kullanmayı deneyin)\n",
    "\n"
   ]
  },
  {
   "cell_type": "code",
   "execution_count": null,
   "metadata": {},
   "outputs": [],
   "source": [
    "students = {'Student-1': {'Lesson-1': 57, 'Lesson-2': 46, 'Lesson-3': 58, 'Lesson-4': 81, 'Lesson-5': 85}, \\\n",
    "'Student-2': {'Lesson-1': 85, 'Lesson-2': 56, 'Lesson-3': 51, 'Lesson-4': 69, 'Lesson-5': 67}, \\\n",
    "'Student-3': {'Lesson-1': 68, 'Lesson-2': 76, 'Lesson-3': 87, 'Lesson-4': 57, 'Lesson-5': 56}, \\\n",
    "'Student-4': {'Lesson-1': 78, 'Lesson-2': 93, 'Lesson-3': 88, 'Lesson-4': 38, 'Lesson-5': 54}, \\\n",
    "'Student-5': {'Lesson-1': 50, 'Lesson-2': 46, 'Lesson-3': 78, 'Lesson-4': 81, 'Lesson-5': 75}}\n"
   ]
  },
  {
   "cell_type": "code",
   "execution_count": 3,
   "metadata": {
    "tags": []
   },
   "outputs": [
    {
     "output_type": "stream",
     "name": "stdout",
     "text": "Student-1   65.4\nStudent-2   65.6\nStudent-3   68.8\nStudent-4   70.2\nStudent-5   66.0\n\nStudent-4 has maximum average with a score 70.2\nStudent-1 has minimum average with a score 65.4\n"
    }
   ],
   "source": [
    "students = {'Student-1': {'Lesson-1': 57, 'Lesson-2': 46, 'Lesson-3': 58, 'Lesson-4': 81, 'Lesson-5': 85}, \\\n",
    "'Student-2': {'Lesson-1': 85, 'Lesson-2': 56, 'Lesson-3': 51, 'Lesson-4': 69, 'Lesson-5': 67}, \\\n",
    "'Student-3': {'Lesson-1': 68, 'Lesson-2': 76, 'Lesson-3': 87, 'Lesson-4': 57, 'Lesson-5': 56}, \\\n",
    "'Student-4': {'Lesson-1': 78, 'Lesson-2': 93, 'Lesson-3': 88, 'Lesson-4': 38, 'Lesson-5': 54}, \\\n",
    "'Student-5': {'Lesson-1': 50, 'Lesson-2': 46, 'Lesson-3': 78, 'Lesson-4': 81, 'Lesson-5': 75}}\n",
    "maxavr, minavr = 0, 100\n",
    "for i in students:\n",
    "   average = sum(students[i].values())/len(students[i].values())\n",
    "   if average > maxavr:\n",
    "       maxavr = average\n",
    "       maxkey = i\n",
    "   if minavr > average:\n",
    "       minavr = average\n",
    "       minkey = i\n",
    "   print(f\"{i}   {average:.1f}\")\n",
    "print(f\"\\n{maxkey} has maximum average with a score {maxavr}\\n{minkey} has minimum average with a score {minavr}\")"
   ]
  },
  {
   "cell_type": "code",
   "execution_count": 17,
   "metadata": {
    "tags": []
   },
   "outputs": [
    {
     "output_type": "stream",
     "name": "stdout",
     "text": "{'Student-1': 65.4, 'Student-2': 65.6, 'Student-3': 68.8, 'Student-4': 70.2, 'Student-5': 66.0}\n\nStudent-4 has maximum average with a score 70.2\nStudent-1 has minimum average with a score 65.4\n"
    }
   ],
   "source": [
    "def avr_grade(students):\n",
    "       \n",
    "    avarage_grades = dict(map(lambda x : (x, sum(students[x].values())/ len(students[x].values())), students))\n",
    "    print(avarage_grades)\n",
    "    max_grade = max(avarage_grades, key = lambda i: avarage_grades[i])\n",
    "    min_grade = min(avarage_grades, key = lambda i: avarage_grades[i])\n",
    "    \n",
    "    return f\"\\n{max_grade} has maximum average with a score {avarage_grades[max_grade]}\\n{min_grade} has minimum average with a score {avarage_grades[min_grade]}\"\n",
    "\n",
    "print(avr_grade(students))"
   ]
  },
  {
   "cell_type": "code",
   "execution_count": 24,
   "metadata": {
    "tags": []
   },
   "outputs": [
    {
     "output_type": "stream",
     "name": "stdout",
     "text": "\nStudent-4 has maximum average with a score 70.2\nStudent-1 has minimum average with a score 65.4\n"
    }
   ],
   "source": [
    "final = {}\n",
    "for i in students:\n",
    "    top = sum((list(students[i].values())))\n",
    "    n = len((list(students[i].values())))\n",
    "    final[i] = top / n\n",
    "# print(final)\n",
    "max_grade = max(final,key=final.get)\n",
    "min_grade = min(final,key=final.get)\n",
    "\n",
    "print(f\"\\n{max_grade} has maximum average with a score {final[max_grade]}\\n{min_grade} has minimum average with a score {final[min_grade]}\")"
   ]
  },
  {
   "cell_type": "code",
   "execution_count": null,
   "metadata": {},
   "outputs": [],
   "source": [
    "dict([(1,2)])"
   ]
  },
  {
   "cell_type": "code",
   "execution_count": 23,
   "metadata": {
    "tags": []
   },
   "outputs": [
    {
     "output_type": "stream",
     "name": "stdout",
     "text": "ß\n"
    },
    {
     "output_type": "execute_result",
     "data": {
      "text/plain": "'ss'"
     },
     "metadata": {},
     "execution_count": 23
    }
   ],
   "source": [
    "s=\"ß\"\n",
    "print(s.lower())\n",
    "s.casefold()"
   ]
  },
  {
   "cell_type": "code",
   "execution_count": null,
   "metadata": {},
   "outputs": [],
   "source": [
    "def starts_with(word):\n",
    "    return lambda x ,y: word.replace(x, y)\n",
    "\n",
    "rep = starts_with(\"henry\")\n",
    "rep(\"h\", \"z\")"
   ]
  },
  {
   "cell_type": "code",
   "execution_count": null,
   "metadata": {},
   "outputs": [],
   "source": []
  },
  {
   "cell_type": "code",
   "execution_count": null,
   "metadata": {},
   "outputs": [],
   "source": []
  }
 ],
 "metadata": {
  "kernelspec": {
   "display_name": "Python 3",
   "language": "python",
   "name": "python3"
  },
  "language_info": {
   "codemirror_mode": {
    "name": "ipython",
    "version": 3
   },
   "file_extension": ".py",
   "mimetype": "text/x-python",
   "name": "python",
   "nbconvert_exporter": "python",
   "pygments_lexer": "ipython3",
   "version": "3.7.6-final"
  }
 },
 "nbformat": 4,
 "nbformat_minor": 2
}